{
 "cells": [
  {
   "cell_type": "markdown",
   "id": "770cf1f8",
   "metadata": {},
   "source": [
    "# NER Assignment\n",
    "Georeferencing automatically detected place names in Edward Gibbon's *Decline and Fall of the Roman Empire* using the Pleiades gazatteer and `spaCy`.\n",
    "\n",
    "Your assignment this week is to output a `CSV` file of place names, frequency and coordinates, as we did in class for a chapter of Gibbon of your choice. Try to find a chapter with a lot of places as we will be turning this data into an online map next week. The steps are:\n",
    "\n",
    "* Choose a chapter from the text\n",
    "* Begin a function by parsing input text\n",
    "* Create a `spaCy` dictionary of entities and frequency\n",
    "* Use the Pleiaes data from class to find coordinates for each place name\n",
    "* Run your function on your chosen chapter\n",
    "* Save your final `CSV`\n",
    "* Come to class on Monday, ready to use it"
   ]
  },
  {
   "cell_type": "code",
   "execution_count": null,
   "id": "22cd3d9e",
   "metadata": {},
   "outputs": [],
   "source": [
    "# import and download any relevant data\n",
    "!python -m spacy download en_core_web_sm"
   ]
  },
  {
   "cell_type": "code",
   "execution_count": null,
   "id": "d7589a18",
   "metadata": {},
   "outputs": [],
   "source": [
    "# any helper functions you may need\n"
   ]
  },
  {
   "cell_type": "code",
   "execution_count": null,
   "id": "67637bec",
   "metadata": {},
   "outputs": [],
   "source": [
    "# final functions\n"
   ]
  },
  {
   "cell_type": "code",
   "execution_count": null,
   "id": "39c082f9",
   "metadata": {},
   "outputs": [],
   "source": [
    "# try your function out\n"
   ]
  },
  {
   "cell_type": "code",
   "execution_count": null,
   "id": "0dca2085",
   "metadata": {},
   "outputs": [],
   "source": [
    "# save result as CSV\n"
   ]
  }
 ],
 "metadata": {
  "kernelspec": {
   "display_name": "Python 3 (ipykernel)",
   "language": "python",
   "name": "python3"
  },
  "language_info": {
   "codemirror_mode": {
    "name": "ipython",
    "version": 3
   },
   "file_extension": ".py",
   "mimetype": "text/x-python",
   "name": "python",
   "nbconvert_exporter": "python",
   "pygments_lexer": "ipython3",
   "version": "3.9.12"
  }
 },
 "nbformat": 4,
 "nbformat_minor": 5
}
