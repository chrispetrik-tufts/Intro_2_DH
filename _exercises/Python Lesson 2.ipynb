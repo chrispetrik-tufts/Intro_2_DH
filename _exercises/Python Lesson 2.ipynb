{
 "cells": [
  {
   "cell_type": "markdown",
   "id": "edcb0525",
   "metadata": {},
   "source": [
    "## 2.1 Simple Message"
   ]
  },
  {
   "cell_type": "code",
   "execution_count": 1,
   "id": "42b06053",
   "metadata": {},
   "outputs": [],
   "source": [
    "x = \"my variable\""
   ]
  },
  {
   "cell_type": "code",
   "execution_count": 2,
   "id": "1fdc1887",
   "metadata": {},
   "outputs": [
    {
     "name": "stdout",
     "output_type": "stream",
     "text": [
      "my variable\n"
     ]
    }
   ],
   "source": [
    "print(x)"
   ]
  },
  {
   "cell_type": "markdown",
   "id": "83755745",
   "metadata": {},
   "source": [
    "## 2.2 Rename a simple message"
   ]
  },
  {
   "cell_type": "code",
   "execution_count": 32,
   "id": "aacd8b94",
   "metadata": {},
   "outputs": [],
   "source": [
    "Axl = \"My dog\" #he needs a bath"
   ]
  },
  {
   "cell_type": "code",
   "execution_count": 4,
   "id": "7e6a140b",
   "metadata": {},
   "outputs": [
    {
     "name": "stdout",
     "output_type": "stream",
     "text": [
      "My dog\n"
     ]
    }
   ],
   "source": [
    "print(Axl)"
   ]
  },
  {
   "cell_type": "code",
   "execution_count": 5,
   "id": "1f54f8e3",
   "metadata": {},
   "outputs": [],
   "source": [
    "Axl = \"Not a cat\""
   ]
  },
  {
   "cell_type": "code",
   "execution_count": 6,
   "id": "e09d76ae",
   "metadata": {},
   "outputs": [
    {
     "name": "stdout",
     "output_type": "stream",
     "text": [
      "Not a cat\n"
     ]
    }
   ],
   "source": [
    "print(Axl)"
   ]
  },
  {
   "cell_type": "markdown",
   "id": "d32f6ad3",
   "metadata": {},
   "source": [
    "## 2.3 Personal Message"
   ]
  },
  {
   "cell_type": "code",
   "execution_count": 33,
   "id": "55c7a301",
   "metadata": {},
   "outputs": [],
   "source": [
    "name = \"Georgia\" #my sister"
   ]
  },
  {
   "cell_type": "code",
   "execution_count": 8,
   "id": "b0298da6",
   "metadata": {},
   "outputs": [],
   "source": [
    "message = f\"{name}, make sure to let Axl out before you go to bed\""
   ]
  },
  {
   "cell_type": "code",
   "execution_count": 9,
   "id": "0db9aef3",
   "metadata": {},
   "outputs": [
    {
     "name": "stdout",
     "output_type": "stream",
     "text": [
      "Georgia, make sure to let Axl out before you go to bed\n"
     ]
    }
   ],
   "source": [
    "print(message)"
   ]
  },
  {
   "cell_type": "markdown",
   "id": "ca8f07d1",
   "metadata": {},
   "source": [
    "## 2.4 Name Cases"
   ]
  },
  {
   "cell_type": "code",
   "execution_count": 34,
   "id": "494a9c37",
   "metadata": {},
   "outputs": [],
   "source": [
    "name = \"Georgia Barbara\" #believe it or not, still my sister"
   ]
  },
  {
   "cell_type": "code",
   "execution_count": 11,
   "id": "0d182148",
   "metadata": {},
   "outputs": [
    {
     "name": "stdout",
     "output_type": "stream",
     "text": [
      "georgia barbara\n"
     ]
    }
   ],
   "source": [
    "print(name.lower())"
   ]
  },
  {
   "cell_type": "code",
   "execution_count": 12,
   "id": "4f2934e0",
   "metadata": {},
   "outputs": [
    {
     "name": "stdout",
     "output_type": "stream",
     "text": [
      "GEORGIA BARBARA\n"
     ]
    }
   ],
   "source": [
    "print(name.upper())"
   ]
  },
  {
   "cell_type": "code",
   "execution_count": 13,
   "id": "1c62f5a2",
   "metadata": {},
   "outputs": [
    {
     "name": "stdout",
     "output_type": "stream",
     "text": [
      "Georgia Barbara\n"
     ]
    }
   ],
   "source": [
    "print(name.title())"
   ]
  },
  {
   "cell_type": "markdown",
   "id": "bdd6bf9d",
   "metadata": {},
   "source": [
    "## 2.5 Print a famous quote"
   ]
  },
  {
   "cell_type": "code",
   "execution_count": 14,
   "id": "2d0fa7d3",
   "metadata": {},
   "outputs": [],
   "source": [
    "quote = \"And the king will say to them in reply, ‘Amen, I say to you, whatever you did for one of these least brothers of mine, you did for me.’\""
   ]
  },
  {
   "cell_type": "code",
   "execution_count": 15,
   "id": "bf982b55",
   "metadata": {},
   "outputs": [
    {
     "name": "stdout",
     "output_type": "stream",
     "text": [
      "And the king will say to them in reply, ‘Amen, I say to you, whatever you did for one of these least brothers of mine, you did for me.’\n"
     ]
    }
   ],
   "source": [
    "print(quote)"
   ]
  },
  {
   "cell_type": "markdown",
   "id": "960bdc9b",
   "metadata": {},
   "source": [
    "## 2.6 Famous Quote Pt. 2"
   ]
  },
  {
   "cell_type": "code",
   "execution_count": 16,
   "id": "7fd64781",
   "metadata": {},
   "outputs": [],
   "source": [
    "famous_person = \"the king\""
   ]
  },
  {
   "cell_type": "code",
   "execution_count": 19,
   "id": "0f9ed820",
   "metadata": {},
   "outputs": [],
   "source": [
    "message = f\"And {famous_person} will say to them in reply, ‘Amen, I say to you, whatever you did for one of these least brothers of mine, you did for me.’\""
   ]
  },
  {
   "cell_type": "code",
   "execution_count": 20,
   "id": "582c4a5e",
   "metadata": {
    "scrolled": true
   },
   "outputs": [
    {
     "name": "stdout",
     "output_type": "stream",
     "text": [
      "And the king will say to them in reply, ‘Amen, I say to you, whatever you did for one of these least brothers of mine, you did for me.’\n"
     ]
    }
   ],
   "source": [
    "print(message)"
   ]
  },
  {
   "cell_type": "markdown",
   "id": "0ba9abae",
   "metadata": {},
   "source": [
    "### Keep it going"
   ]
  },
  {
   "cell_type": "code",
   "execution_count": 21,
   "id": "0ee289ac",
   "metadata": {},
   "outputs": [],
   "source": [
    "quote = \"Amen, I say to you, whatever you did for one of these least brothers of mine, you did for me.\""
   ]
  },
  {
   "cell_type": "code",
   "execution_count": 22,
   "id": "c7a97767",
   "metadata": {},
   "outputs": [],
   "source": [
    "message = f'And {famous_person} will say to them in reply, \"{quote}\"'"
   ]
  },
  {
   "cell_type": "code",
   "execution_count": 23,
   "id": "6d62427e",
   "metadata": {},
   "outputs": [
    {
     "name": "stdout",
     "output_type": "stream",
     "text": [
      "And the king will say to them in reply, \"Amen, I say to you, whatever you did for one of these least brothers of mine, you did for me.\"\n"
     ]
    }
   ],
   "source": [
    "print(message)"
   ]
  },
  {
   "cell_type": "markdown",
   "id": "e96017b3",
   "metadata": {},
   "source": [
    "## 2.7 Stripping Names"
   ]
  },
  {
   "cell_type": "code",
   "execution_count": 28,
   "id": "c6884928",
   "metadata": {},
   "outputs": [],
   "source": [
    "some_name = \"\\t   Jesus       \""
   ]
  },
  {
   "cell_type": "code",
   "execution_count": 29,
   "id": "e29fe879",
   "metadata": {},
   "outputs": [
    {
     "name": "stdout",
     "output_type": "stream",
     "text": [
      "Jesus       \n"
     ]
    }
   ],
   "source": [
    "print(some_name.lstrip())"
   ]
  },
  {
   "cell_type": "code",
   "execution_count": 26,
   "id": "c0718ab6",
   "metadata": {},
   "outputs": [],
   "source": [
    "another_name = \"\\n mom               \""
   ]
  },
  {
   "cell_type": "code",
   "execution_count": 30,
   "id": "9904bc08",
   "metadata": {},
   "outputs": [
    {
     "name": "stdout",
     "output_type": "stream",
     "text": [
      "mom\n"
     ]
    }
   ],
   "source": [
    "print(another_name.strip())"
   ]
  },
  {
   "cell_type": "markdown",
   "id": "8399b074",
   "metadata": {},
   "source": [
    "## 2.10 Adding Comments"
   ]
  },
  {
   "cell_type": "code",
   "execution_count": 31,
   "id": "c0ecebeb",
   "metadata": {},
   "outputs": [],
   "source": [
    "#go to 2.2, 2.3, and 2.4"
   ]
  },
  {
   "cell_type": "code",
   "execution_count": null,
   "id": "48332caf",
   "metadata": {},
   "outputs": [],
   "source": []
  }
 ],
 "metadata": {
  "kernelspec": {
   "display_name": "Python 3 (ipykernel)",
   "language": "python",
   "name": "python3"
  },
  "language_info": {
   "codemirror_mode": {
    "name": "ipython",
    "version": 3
   },
   "file_extension": ".py",
   "mimetype": "text/x-python",
   "name": "python",
   "nbconvert_exporter": "python",
   "pygments_lexer": "ipython3",
   "version": "3.9.12"
  }
 },
 "nbformat": 4,
 "nbformat_minor": 5
}
